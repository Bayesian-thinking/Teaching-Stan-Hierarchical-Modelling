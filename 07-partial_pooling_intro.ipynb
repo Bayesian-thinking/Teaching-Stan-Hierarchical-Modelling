{
 "cells": [
  {
   "cell_type": "markdown",
   "metadata": {},
   "source": [
    "# Bayesian Multilevel Modelling using PyStan\n",
    "\n",
    "This is a tutorial, following through Chris Fonnesbeck's [primer on using PyStan with Bayesian Multilevel Modelling](http://mc-stan.org/documentation/case-studies/radon.html).\n",
    "\n",
    "# 7. Partial Pooling - Introduction"
   ]
  },
  {
   "cell_type": "code",
   "execution_count": 1,
   "metadata": {
    "collapsed": false
   },
   "outputs": [
    {
     "name": "stdout",
     "output_type": "stream",
     "text": [
      "Populating the interactive namespace from numpy and matplotlib\n"
     ]
    },
    {
     "name": "stderr",
     "output_type": "stream",
     "text": [
      "/usr/local/lib/python3.5/site-packages/Cython/Distutils/old_build_ext.py:30: UserWarning: Cython.Distutils.old_build_ext does not properly handle dependencies and is deprecated.\n",
      "  \"Cython.Distutils.old_build_ext does not properly handle dependencies \"\n"
     ]
    }
   ],
   "source": [
    "%pylab inline\n",
    "\n",
    "import numpy as np\n",
    "import pandas as pd\n",
    "import pystan\n",
    "import seaborn as sns\n",
    "\n",
    "import clean_data\n",
    "import unpooled_model\n",
    "\n",
    "sns.set_context('notebook')"
   ]
  },
  {
   "cell_type": "markdown",
   "metadata": {},
   "source": [
    "## Pooling and Multilevel/Hierarchical Models\n",
    "\n",
    "### pooled model\n",
    "\n",
    "When we *pool* data, we imply that they are sampled from the same model. This ignores all variation (other than sampling variation) among the units being sampled. That is to say, observations $y_1, y_2, \\ldots, y_k$ share common parameter(s) $\\theta$:\n",
    "\n",
    "![pooled model](images/pooled_model.png)\n",
    "\n",
    "### unpooled model\n",
    "\n",
    "If we analyse our data with an *unpooled* model, we separate our data out into groups (which may be as extreme as one group per sample), which implies that the groups are sampled independently from separate models because the differences between sampling units are too great for them to be reasonably combined. That is to say, observations (or grouped observations) $y_1, y_2, \\ldots, y_k$ have independent parameters $\\theta_1, \\theta_2, \\ldots, \\theta_k$.\n",
    "\n",
    "![unpooled model](images/unpooled_model.png)\n",
    "\n",
    "### partial pooling/hierarchical modelling\n",
    "\n",
    "In a *hierarchical*, or *partial pooling* model, model parameters are instead viewed as a sample from a population distribution of parameters, so the unpooled model parameters $\\theta_1, \\theta_2, \\ldots, \\theta_k$ can be sampled from a single distribution $N(\\mu, \\sigma^2)$.\n",
    "\n",
    "![partial pooled model](images/partial_pooled_model.png)\n",
    "\n",
    "One of the great advantages of Bayesian modelling (as opposed to linear regression modelling) is the relative ease with which one can specify multilevel models and fit them using Hamiltonian Monte Carlo."
   ]
  },
  {
   "cell_type": "markdown",
   "metadata": {},
   "source": [
    "## Partial Pooling\n",
    "\n",
    "### A simple model\n",
    "\n",
    "The simplest possible partial pooling model for the radon dataset is one that estimates radon levels, with no other predictors (i.e. ignoring the effect of floor). This is a compromise between pooled (mean of all counties) and unpooled (county-level means), and approximates a *weighted average* (by sample size) of unpooled county means, and the pooled mean:\n",
    "\n",
    "$$\\hat{\\alpha} \\approx \\frac{(n_j/\\sigma_y^2)\\bar{y}_j + (1/\\sigma_{\\alpha}^2)\\bar{y}}{(n_j/\\sigma_y^2) + (1/\\sigma_{\\alpha}^2)}$$\n",
    "\n",
    "* $\\hat{\\alpha}$ - partially-pooled estimate of radon level\n",
    "* $n_j$ - number of samples in county $j$\n",
    "* $\\bar{y}_j$ - estimated mean for county $j$\n",
    "* $\\sigma_y^2$ - s.e. of $\\bar{y}_j$, variability of the county mean\n",
    "* $\\bar{y}$ - pooled mean estimate for $\\alpha$\n",
    "* $\\sigma_{\\alpha}^2$ - s.e. of $\\bar{y}$\n",
    "\n",
    "### Specifying the model\n",
    "\n",
    "We can define this in `stan`, specifying `data`, `parameters`, `transformed parameters` and `model` blocks. The model is built up as follows.\n",
    "\n",
    "Our observed log(radon) measurements ($y$ approximate an intermediate transformed parameter $\\hat{y}$, which is normally distributed with variance $\\sigma_y^2$:\n",
    "\n",
    "$$y \\sim N(\\hat{y}, \\sigma_y^2)$$\n",
    "\n",
    "The transformed variable $\\hat{y}$ is the value of $\\alpha$ associated with the county $i$ ($i=1,\\ldots,N$) in which each household is found.\n",
    "\n",
    "$$\\hat{y} = {\\alpha_1, \\ldots, \\alpha_N}$$\n",
    "\n",
    "The value of $\\alpha$ for each county $i$, is Normally distributed with mean $10\\mu_{\\alpha}$ and variance $\\sigma_{\\alpha}^2$. That is, there is a common mean and variance underlying each of the prevailing radon levels in each county.\n",
    "\n",
    "$$\\alpha_i \\sim N(10\\mu_{\\alpha}, \\sigma_{\\alpha}^2), i = 1,\\ldots,N$$\n",
    "\n",
    "The value $\\mu_{\\alpha}$ is Normally distributed around 0, with unit variance:\n",
    "\n",
    "$$\\mu_{\\alpha} \\sim N(0, 1)$$\n",
    "\n",
    "In `data`:\n",
    "* `N` will be the number of samples (`int`)\n",
    "* `county` will be a list of `N` values from 1-85, specifying the county index each measurement\n",
    "* `y` will be a `vector` of log(radon) measurements, one per household/sample.\n",
    "\n",
    "We define parameters:\n",
    "\n",
    "* `a` (`vector`, one value per county), representing $\\alpha$, the vector of prevailing radon levels for each county.\n",
    "* `mu_a`, a `real` corresponding to $\\mu_{alpha}$, the mean radon level underlying the distribution from which the county levels are drawn.\n",
    "* `sigma_a` is $\\sigma_{\\alpha}$, the standard deviation of the radon level distribution underlying the county levels: variability of county means about the average.\n",
    "* `sigma_y` is $\\sigma_y$, the standard deviation of the measurement/sampling error: residual error of the observations."
   ]
  },
  {
   "cell_type": "code",
   "execution_count": 2,
   "metadata": {
    "collapsed": true
   },
   "outputs": [],
   "source": [
    "partial_pooling = \"\"\"\n",
    "data {\n",
    "  int<lower=0> N;\n",
    "  int<lower=1,upper=85> county[N];\n",
    "  vector[N] y;\n",
    "}\n",
    "parameters {\n",
    "  vector[85] a;\n",
    "  real mu_a;\n",
    "  real<lower=0,upper=100> sigma_a;\n",
    "  real<lower=0,upper=100> sigma_y;\n",
    "}\n",
    "transformed parameters {\n",
    "  vector[N] y_hat;\n",
    "  for(i in 1:N)\n",
    "    y_hat[i] <- a[county[i]];\n",
    "}\n",
    "model {\n",
    "  mu_a ~ normal(0, 1);\n",
    "  a ~ normal(10 * mu_a, sigma_a);\n",
    "  \n",
    "  y ~ normal(y_hat, sigma_y);\n",
    "}\n",
    "\"\"\""
   ]
  },
  {
   "cell_type": "markdown",
   "metadata": {},
   "source": [
    "We map Python variables onto the model data (remembering to offset counts/indices by 1, as Stan counts from 1, not from 0):"
   ]
  },
  {
   "cell_type": "code",
   "execution_count": 3,
   "metadata": {
    "collapsed": true
   },
   "outputs": [],
   "source": [
    "partial_pool_data = {'N': len(clean_data.log_radon),\n",
    "                     'county': clean_data.county + 1,\n",
    "                     'y': clean_data.log_radon}"
   ]
  },
  {
   "cell_type": "markdown",
   "metadata": {},
   "source": [
    "Finally, we fit the model, to estimate $\\mu_{\\alpha}$, and $\\alpha_i, i=1,\\ldots,N$:"
   ]
  },
  {
   "cell_type": "code",
   "execution_count": 4,
   "metadata": {
    "collapsed": true
   },
   "outputs": [],
   "source": [
    "partial_pool_fit = pystan.stan(model_code=partial_pooling,\n",
    "                               data=partial_pool_data,\n",
    "                               iter=1000, chains=2)"
   ]
  },
  {
   "cell_type": "markdown",
   "metadata": {},
   "source": [
    "We're interested primarily in the county-level estimates of prevailing radon levels, so we obtain the sample estimates for `a`:"
   ]
  },
  {
   "cell_type": "code",
   "execution_count": 5,
   "metadata": {
    "collapsed": true
   },
   "outputs": [],
   "source": [
    "sample_trace = partial_pool_fit['a']  \n",
    "means = sample_trace.mean(axis=0) # county-level estimates\n",
    "sd = sample_trace.std(axis=0)\n",
    "samples, counties = sample_trace.shape\n",
    "n_county = clean_data.srrs_mn.groupby('county')['idnum'].count()  # number of samples from each county"
   ]
  },
  {
   "cell_type": "markdown",
   "metadata": {},
   "source": [
    "We're going to compare the results from our partially-pooled model to the unpooled model from `05-unpooled_model.ipynb`."
   ]
  },
  {
   "cell_type": "code",
   "execution_count": 6,
   "metadata": {
    "collapsed": false
   },
   "outputs": [
    {
     "data": {
      "image/png": "[encoded data removed]",
      "text/plain": [
       "<matplotlib.figure.Figure at 0x115f5a240>"
      ]
     },
     "metadata": {},
     "output_type": "display_data"
    }
   ],
   "source": [
    "# Obtain unpooled estimates\n",
    "unpooled = pd.DataFrame({'n': n_county,\n",
    "                         'm': unpooled_model.unpooled_estimates,\n",
    "                         'sd': unpooled_model.unpooled_se})\n",
    "unpooled['se'] = unpooled.sd/np.sqrt(unpooled.n)\n",
    "\n",
    "# Construct axes for results\n",
    "fig, axes = plt.subplots(1, 2, figsize=(14,6),\n",
    "                         sharex=True, sharey=True)\n",
    "jitter = np.random.normal(scale=0.1, size=counties)  # avoid overplotting counties\n",
    "\n",
    "# Plot unpooled estimates\n",
    "axes[0].plot(unpooled.n + jitter, unpooled.m, 'b.')  # means\n",
    "for j, row in zip(jitter, unpooled.iterrows()):\n",
    "    name, dat = row\n",
    "    axes[0].plot([dat.n + j, dat.n + j], [dat.m - dat.se, dat.m + dat.se], 'b-')\n",
    "\n",
    "# Plot partially-pooled estimates\n",
    "axes[1].scatter(n_county.values + jitter, means)\n",
    "for j, n, m, s in zip(jitter, n_county.values, means, sd):\n",
    "    axes[1].plot([n + j, n + j], [m - s, m + s], 'b-')\n",
    "\n",
    "# Add line for underlying mean\n",
    "for ax in axes:\n",
    "    ax.hlines(sample_trace.mean(), 0.9, 100, linestyles='--')  # underlying mean from partial model\n",
    "\n",
    "# Set axis limits/scale (shared x/y - need only to set one axis)\n",
    "axes[0].set_xscale('log')\n",
    "axes[0].set_xlim(1, 100)\n",
    "axes[0].set_ylim(-0.5, 3.5)\n",
    "\n",
    "# Set axis titles\n",
    "axes[0].set_title(\"Unpooled model estimates\")\n",
    "axes[1].set_title(\"Partially pooled model estimates\");"
   ]
  },
  {
   "cell_type": "markdown",
   "metadata": {},
   "source": [
    "By inspection, there is quite a difference between unpooled and partially-pooled estimates of prevailing county-level radon level, especially as smaller sample sizes. The unpooled estimates at smaller sample sizes are both more extreme, and more imprecise."
   ]
  }
 ],
 "metadata": {
  "kernelspec": {
   "display_name": "Python 3",
   "language": "python",
   "name": "python3"
  },
  "language_info": {
   "codemirror_mode": {
    "name": "ipython",
    "version": 3
   },
   "file_extension": ".py",
   "mimetype": "text/x-python",
   "name": "python",
   "nbconvert_exporter": "python",
   "pygments_lexer": "ipython3",
   "version": "3.5.2"
  }
 },
 "nbformat": 4,
 "nbformat_minor": 0
}
