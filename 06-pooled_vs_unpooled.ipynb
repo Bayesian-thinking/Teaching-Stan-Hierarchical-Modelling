{
 "cells": [
  {
   "cell_type": "markdown",
   "metadata": {},
   "source": [
    "# Bayesian Multilevel Modelling using PyStan\n",
    "\n",
    "This is a tutorial, following through Chris Fonnesbeck's [primer on using PyStan with Bayesian Multilevel Modelling](http://mc-stan.org/documentation/case-studies/radon.html).\n",
    "\n",
    "# 6. Comparison of Pooled and Unpooled Models"
   ]
  },
  {
   "cell_type": "code",
   "execution_count": null,
   "metadata": {
    "collapsed": false
   },
   "outputs": [],
   "source": [
    "%pylab inline\n",
    "\n",
    "import numpy as np\n",
    "import pandas as pd\n",
    "import pystan\n",
    "import seaborn as sns\n",
    "\n",
    "import clean_data\n",
    "import pooled_model\n",
    "import unpooled_model\n",
    "\n",
    "sns.set_context('notebook')"
   ]
  },
  {
   "cell_type": "markdown",
   "metadata": {},
   "source": [
    "The pooled and unpooled radon estimate models that were previously defined in `04-pooled_model.ipynb` and `05-unpooled_model.ipynb` are redefined and run in the `models` module, imported above. This makes the variables defined in earlier notebooks available here also, for comparison and plotting."
   ]
  },
  {
   "cell_type": "markdown",
   "metadata": {},
   "source": [
    "## Plot comparison of pooled and unpooled estimates\n",
    "\n",
    "We can make direct visual comparisons between pooled and unpooled estimates for all counties, but here we do so for a specific subset:"
   ]
  },
  {
   "cell_type": "code",
   "execution_count": null,
   "metadata": {
    "collapsed": false
   },
   "outputs": [],
   "source": [
    "# Define subset of counties\n",
    "sample_counties = ('LAC QUI PARLE', 'AITKIN', 'KOOCHICHING',\n",
    "                   'DOUGLAS', 'CLAY', 'STEARNS', 'RAMSEY',\n",
    "                   'ST LOUIS')\n",
    "\n",
    "# Make plot\n",
    "fig, axes = plt.subplots(2, 4, figsize=(12, 6),\n",
    "                         sharex=True, sharey=True)\n",
    "axes = axes.ravel()  # turn axes into a flattened array\n",
    "m = unpooled_model.unpooled_fit['beta'].mean(0)\n",
    "for i, c in enumerate(sample_counties):\n",
    "    # Get unpooled estimates and set common x values\n",
    "    b = unpooled_model.unpooled_estimates[c]\n",
    "    xvals = np.linspace(-0.2, 1.2)\n",
    "    \n",
    "    # Plot household data\n",
    "    x = clean_data.srrs_mn.floor[clean_data.srrs_mn.county == c]\n",
    "    y = clean_data.srrs_mn.log_radon[clean_data.srrs_mn.county == c]\n",
    "    axes[i].scatter(x + np.random.randn(len(x)) * 0.01, y, alpha=0.4)\n",
    "    \n",
    "    # Plot models\n",
    "    axes[i].plot(xvals, m * xvals + b)  # unpooled\n",
    "    axes[i].plot(xvals, pooled_model.m0 * xvals + pooled_model.b0, 'r--')  # pooled\n",
    "    \n",
    "    # Add labels and ticks\n",
    "    axes[i].set_xticks([0, 1])\n",
    "    axes[i].set_xticklabels(['basement', 'floor'])\n",
    "    axes[i].set_ylim(-1, 3)\n",
    "    axes[i].set_title(c)\n",
    "    if not i % 2:\n",
    "        axes[i].set_ylabel('log radon level')"
   ]
  },
  {
   "cell_type": "markdown",
   "metadata": {},
   "source": [
    "By visual inspection, we can see that using unpooled county estimates for prevailing radon level has resulted in models that deviate from the pooled estimates, correcting for its *bias*. However, we can also see that for counties with few observations, the fitted estimates track the observations very closely, suggesting that there has been *overfitting*. The attempt to minimise error due to *bias* has resulted in the introduction of greater error due to *variance* in the dataset."
   ]
  },
  {
   "cell_type": "markdown",
   "metadata": {},
   "source": [
    "## Conclusion\n",
    "\n",
    "Neither model does perfectly:\n",
    "\n",
    "* For identification of counties with a predicted prevailing high radon level, pooling is useless (because all counties are modelled with the same level)\n",
    "* However, we ought not to trust any unpooled estimates that were produced using few observations on a county\n",
    "\n",
    "Ideally, we would have an intermediate form of model that optimally minimises the errors due to both *bias* and *variance*."
   ]
  },
  {
   "cell_type": "code",
   "execution_count": null,
   "metadata": {
    "collapsed": true
   },
   "outputs": [],
   "source": []
  }
 ],
 "metadata": {
  "kernelspec": {
   "display_name": "Python 3",
   "language": "python",
   "name": "python3"
  },
  "language_info": {
   "codemirror_mode": {
    "name": "ipython",
    "version": 3
   },
   "file_extension": ".py",
   "mimetype": "text/x-python",
   "name": "python",
   "nbconvert_exporter": "python",
   "pygments_lexer": "ipython3",
   "version": "3.5.2"
  }
 },
 "nbformat": 4,
 "nbformat_minor": 0
}
