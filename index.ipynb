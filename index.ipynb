{
 "cells": [
  {
   "cell_type": "markdown",
   "metadata": {},
   "source": [
    "# Teaching-Stan-Hierarchical-Modelling"
   ]
  },
  {
   "cell_type": "markdown",
   "metadata": {},
   "source": [
    "## Introduction\n",
    "\n",
    "This set of notebooks works through an example of *hierarchical* (also known as *multilevel*) Bayesian modelling using the `pystan` Python module. It is derived from Chris Fonnesbeck's introduction to Bayesian multilevel modelling using Stan:\n",
    "\n",
    "* [Chris Fonnesbeck's primer](http://mc-stan.org/users/documentation/case-studies/radon.html)\n",
    "* [Stan homepage](http://mc-stan.org/)\n",
    "\n",
    "![Radon Problem Description](./images/how_radon_enters.jpg)\n",
    "![Plot of Radon by Floor and County](./images/radon_by_floor.png)\n",
    "![Plot of Radon by County](./images/radon_by_county.png)"
   ]
  },
  {
   "cell_type": "markdown",
   "metadata": {},
   "source": [
    "## Reading/Using the Notebooks\n",
    "\n",
    "These notebooks can be read online as webpages (see [this page](https://widdowquinn.github.io/Teaching-Stan-Hierarchical-Modelling/)), or downloaded and used interactively as [Jupyter](https://jupyter.org/) notebooks, where you can explore and experiment with the models in your web browser using Python, following the links below."
   ]
  },
  {
   "cell_type": "markdown",
   "metadata": {},
   "source": [
    "## License Information\n",
    "\n",
    "Chris Fonnesbeck's material is licensed under the following licenses:\n",
    "\n",
    "* Text: [CC-BY version 3.0](https://creativecommons.org/licenses/by/3.0/)\n",
    "* Code: [Apache version 2.0](https://www.apache.org/licenses/LICENSE-2.0)\n",
    "\n",
    "Both licences grant permission to reproduce and prepare derivative works, and these licenses should be considered also to apply to the work in this repository."
   ]
  },
  {
   "cell_type": "markdown",
   "metadata": {},
   "source": [
    "## Reporting Issues\n",
    "\n",
    "I will have made mistakes. If you spot any, or would otherwise like to make improvements, I would be grateful if you could please take one of the following actions:\n",
    "\n",
    "* Raise the issue at the [GitHub issues page](https://github.com/widdowquinn/Teaching-Stan-Hierarchical-Modelling/issues) for this repository.\n",
    "* Fork the repository, make the required changes, and then issue a pull request."
   ]
  },
  {
   "cell_type": "markdown",
   "metadata": {},
   "source": [
    "<a name=\"notebooks\" />\n",
    "## Notebooks\n",
    "\n",
    "1. [Introduction](01-Introduction.ipynb)\n",
    "2. [Data Import](02-Data_Import.ipynb)\n",
    "3. [Bias/Variance Tradeoff](03-bias_variance_tradeoff.ipynb)\n",
    "4. [A Pooled Model](04-pooled_model.ipynb)\n",
    "5. [An Unpooled Model](05-unpooled_model.ipynb)\n",
    "6. [Pooled vs Unpooled Models](06-pooled_vs_unpooled.ipynb)\n",
    "7. [Partial Pooling - An Introduction](07-partial_pooling_intro.ipynb)\n",
    "8. [Partial Pooling - Varying Intercept](08-partial_pooling_varying_intercept.ipynb)\n",
    "9. [Partial Pooling - Varying Slope](09-partial_pooling_varying_slope.ipynb)\n",
    "10. [Partial Pooling - Varying Intercept and Slope](10-partial_pooling_varying_slope_and_intercept.ipynb)\n",
    "11. [Group-level Predictors](11-group_level_predictors.ipynb)\n",
    "12. [Contextual Effects](12-contextual_effects.ipynb)\n",
    "13. [Prediction](13-prediction.ipynb)"
   ]
  },
  {
   "cell_type": "markdown",
   "metadata": {},
   "source": [
    "## Getting Started with Interactive Notebooks\n",
    "\n",
    "### 1. Get the notebooks\n",
    "\n",
    "Clone the notebooks from GitHub with:\n",
    "\n",
    "```bash\n",
    "git clone git@github.com:widdowquinn/Teaching-Stan-Hierarchical-Modelling.git\n",
    "```\n",
    "\n",
    "Then change into the repository directory:\n",
    "\n",
    "```bash\n",
    "cd Teaching-Stan-Hierarchical-Modelling/\n",
    "```\n",
    "\n",
    "### 2. Create a `virtualenv` to run the notebooks\n",
    "\n",
    "Using `virtualenv` we create a standalone Python virtual environment with the appropriate libraries installed. This will not interfere with system Python or any other Python instances available on your machine.\n",
    "\n",
    "First, create the virtual environment:\n",
    "\n",
    "```bash\n",
    "virtualenv -p python3.6 venv-stan\n",
    "```\n",
    "\n",
    "Next, activate the virtual environment:\n",
    "\n",
    "```bash\n",
    "source venv-stan/bin/activate\n",
    "```\n",
    "\n",
    "Then, install the required packages:\n",
    "\n",
    "```bash\n",
    "pip install -r requirements.txt\n",
    "```\n",
    "\n",
    "Finally, install Jupyter:\n",
    "\n",
    "```bash\n",
    "pip install jupyter\n",
    "```\n",
    "\n",
    "### 3. Starting the notebooks\n",
    "\n",
    "To start Jupyter, issue the following at the command line:\n",
    "\n",
    "```bash\n",
    "jupyter notebook\n",
    "```\n",
    "\n",
    "This should bring up a view on the current directory in your browser. Click on any of the `.ipynb` notebook files to start them running in your browser."
   ]
  }
 ],
 "metadata": {
  "kernelspec": {
   "display_name": "Python 3",
   "language": "python",
   "name": "python3"
  },
  "language_info": {
   "codemirror_mode": {
    "name": "ipython",
    "version": 3
   },
   "file_extension": ".py",
   "mimetype": "text/x-python",
   "name": "python",
   "nbconvert_exporter": "python",
   "pygments_lexer": "ipython3",
   "version": "3.6.3"
  }
 },
 "nbformat": 4,
 "nbformat_minor": 2
}
