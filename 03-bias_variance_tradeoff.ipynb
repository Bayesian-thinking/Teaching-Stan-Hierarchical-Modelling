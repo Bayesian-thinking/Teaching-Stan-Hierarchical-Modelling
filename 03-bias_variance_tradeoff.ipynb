{
 "cells": [
  {
   "cell_type": "markdown",
   "metadata": {},
   "source": [
    "# Bayesian Multilevel Modelling using PyStan\n",
    "\n",
    "This is a tutorial, following through Chris Fonnesbeck's [primer on using PyStan with Bayesian Multilevel Modelling](http://mc-stan.org/documentation/case-studies/radon.html).\n",
    "\n",
    "# 3. The Bias-Variance Tradeoff"
   ]
  },
  {
   "cell_type": "code",
   "execution_count": 1,
   "metadata": {
    "collapsed": false
   },
   "outputs": [
    {
     "name": "stdout",
     "output_type": "stream",
     "text": [
      "Populating the interactive namespace from numpy and matplotlib\n"
     ]
    }
   ],
   "source": [
    "%pylab inline\n",
    "\n",
    "import seaborn as sns\n",
    "\n",
    "import clean_data"
   ]
  },
  {
   "cell_type": "markdown",
   "metadata": {},
   "source": [
    "## Modelling distribution of radon in MN\n",
    "\n",
    "Visual inspection of the variation in (log) observed radon levels for the households shows a broad range of values."
   ]
  },
  {
   "cell_type": "code",
   "execution_count": 2,
   "metadata": {
    "collapsed": false
   },
   "outputs": [
    {
     "data": {
      "image/png": "[encoded data removed]",
      "text/plain": [
       "<matplotlib.figure.Figure at 0x10bf98358>"
      ]
     },
     "metadata": {},
     "output_type": "display_data"
    }
   ],
   "source": [
    "fig = clean_data.srrs_mn.activity.apply(lambda x: np.log(x + 0.1)).hist(bins=25)\n",
    "fig.set_xlabel('log(radon)')\n",
    "fig.set_ylabel('frequency');"
   ]
  },
  {
   "cell_type": "markdown",
   "metadata": {},
   "source": [
    "We aim to determine which contributions of the prevailing radon level, and the floor at which radon level is measured,  produce this distribution of observed values, by modelling the relationship between those quantities and the measured radon level."
   ]
  },
  {
   "cell_type": "markdown",
   "metadata": {},
   "source": [
    "## Conventional approaches\n",
    "\n",
    "Two conventional alternatives to modelling, *pooling* and *not pooling* represent two extremes of a [tradeoff between *variance* and *bias*](http://scott.fortmann-roe.com/docs/BiasVariance.html).\n",
    "\n",
    "* *variance*: the difference between observations and the mean behaviour of the model\n",
    "* *bias*: the difference between the mean behaviour of the model, and the mean behaviour of the \"true\" relationship\n",
    "\n",
    "### The bias-variance tradeoff\n",
    "\n",
    "Where the variable we are trying to predict is $Y$, as a function of covariates $X$, we assume a relationship $Y = f(X) + \\epsilon$ where the error term $\\epsilon$ is distributed normally with mean zero: $\\epsilon \\sim N(0, \\sigma_{\\epsilon})$.\n",
    "\n",
    "We estimate a *model* $\\hat{f}(X)$ of $f(X)$ using some technique. This gives us squared prediction error: $\\textrm{Err}(x) = E[(Y − \\hat{f}(x))^2]$. That squared error can be decomposed into:\n",
    "\n",
    "$$\\textrm{Err}(x)=(E[\\hat{f} (x)] − f(x))^2 + E[(\\hat{f}(x) − E[\\hat{f}(x)])^2] + \\sigma^2_e$$\n",
    "\n",
    "where\n",
    "\n",
    "* $E[\\hat{f} (x)] − f(x))^2$ is the square of the difference between the model $\\hat{f}(x)$ and the 'true' relationship $f(x)$, i.e. the square of the *bias*\n",
    "* $E[(\\hat{f}(x) − E[\\hat{f}(x)])^2]$ is the square of the difference between the mean behaviour of the model and the observed behaviour of this model, i.e. the square of the *variance*\n",
    "* $\\sigma^2_e$ is the noise of the 'true' relationship that cannot be captured in any model, i.e. the *irreducible error*\n",
    "\n",
    "With a known true model, and an infinite amount of data, it is in principle possible to reduce both *bias* and *variance* to zero. In reality, both sources of error exist, and we choose to minimise *bias* and/or *variance*."
   ]
  },
  {
   "cell_type": "markdown",
   "metadata": {},
   "source": [
    "### The trade-off in the radon model\n",
    "\n",
    "Taking $y = \\log(\\textrm{radon})$, floor measurements (basement or ground) as $x$, where $i$ indicates the house, and $j[i]$ is the county to which a house 'belongs'. Then $\\alpha$ is the radon level across all counties, and $\\alpha_{j[i]}$ is the radon level in a single county; $\\beta$ is the influence of the choice of floor at which measurement is made; and $\\epsilon$ is some other error (measurement error, temporal variation in a house, or variation among houses).\n",
    "\n",
    "We can take two contrasting, and extreme approaches:\n",
    "\n",
    "* **Complete pooling** - treat all counties the same, and estimate a single radon level: $y_i = \\alpha + \\beta x_i + \\epsilon_i$\n",
    "* **No pooling** - treat each county independently: $y_i = \\alpha_{j[i]} + \\beta x_i + \\epsilon_i$\n",
    "\n",
    "When we do not pool, we will likely obtain quite different parameter estimates $\\alpha_{j[i]}$ for each county - especially when there are few observations in a county. As new data is gathered, these estimates are likely to change radically. This is therefore a model with *high variance*.\n",
    "\n",
    "Alternatively, by pooling all counties, we will obtain a single estimate for $\\alpha$, but this value may deviate quite far from the true situation in some or all counties. This is therefore a model with *high bias*.\n",
    "\n",
    "So, if we treat all counties as the same, we have a biased estimate, but if we treat them as individuals, we have high variance - the *bias-variance tradeoff*. It may be the case that neither extreme produces a good model for the real behaviour: models that minimise bias to produce a high variance error are *overfit*; those that minimise variance to produce a strong bias error are *underfit*."
   ]
  },
  {
   "cell_type": "code",
   "execution_count": null,
   "metadata": {
    "collapsed": true
   },
   "outputs": [],
   "source": []
  }
 ],
 "metadata": {
  "kernelspec": {
   "display_name": "Python 3",
   "language": "python",
   "name": "python3"
  },
  "language_info": {
   "codemirror_mode": {
    "name": "ipython",
    "version": 3
   },
   "file_extension": ".py",
   "mimetype": "text/x-python",
   "name": "python",
   "nbconvert_exporter": "python",
   "pygments_lexer": "ipython3",
   "version": "3.5.2"
  }
 },
 "nbformat": 4,
 "nbformat_minor": 0
}
