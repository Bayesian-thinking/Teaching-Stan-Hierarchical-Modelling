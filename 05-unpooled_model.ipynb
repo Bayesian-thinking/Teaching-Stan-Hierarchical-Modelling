{
 "cells": [
  {
   "cell_type": "markdown",
   "metadata": {},
   "source": [
    "# Bayesian Multilevel Modelling using PyStan\n",
    "\n",
    "This is a tutorial, following through Chris Fonnesbeck's [primer on using PyStan with Bayesian Multilevel Modelling](http://mc-stan.org/documentation/case-studies/radon.html).\n",
    "\n",
    "# 4. An Unpooled Model"
   ]
  },
  {
   "cell_type": "code",
   "execution_count": 1,
   "metadata": {
    "collapsed": false
   },
   "outputs": [
    {
     "name": "stdout",
     "output_type": "stream",
     "text": [
      "Populating the interactive namespace from numpy and matplotlib\n"
     ]
    },
    {
     "name": "stderr",
     "output_type": "stream",
     "text": [
      "/usr/local/lib/python3.5/site-packages/Cython/Distutils/old_build_ext.py:30: UserWarning: Cython.Distutils.old_build_ext does not properly handle dependencies and is deprecated.\n",
      "  \"Cython.Distutils.old_build_ext does not properly handle dependencies \"\n"
     ]
    }
   ],
   "source": [
    "%pylab inline\n",
    "\n",
    "import numpy as np\n",
    "import pandas as pd\n",
    "import pystan\n",
    "import seaborn as sns\n",
    "\n",
    "import clean_data\n",
    "\n",
    "sns.set_context('notebook')"
   ]
  },
  {
   "cell_type": "markdown",
   "metadata": {},
   "source": [
    "## Building the model in `Stan`\n",
    "\n",
    "We construct a model with no pooling, where we treat each county as having a prevailing radon level that is independent of all other counties: \n",
    "\n",
    "$$y_i = \\alpha_{j[i]} + \\beta x_i + \\epsilon_i$$\n",
    "\n",
    "* $y_i$: measured log(radon) in household $i$\n",
    "* $\\alpha_{j[i]}$: prevailing radon level in county $j[i]$, which is the county $j$ to which household $i$ belonds\n",
    "* $\\beta$: effect on measured log(radon) in moving from basement to ground floor measurement\n",
    "* $\\epsilon_i$: error in the model prediction for household %i%"
   ]
  },
  {
   "cell_type": "markdown",
   "metadata": {},
   "source": [
    "### Specifying the unpooled model in Stan\n",
    "\n",
    "For the unpooled model, we have the parameter $\\alpha_{j[i]}$, representing a list of (independent) mean values, one for each county. Otherwise the model is the same as for the pooled example, with shared parameters for the effect of which floor is being measured, and the standard deviation of the error.\n",
    "\n",
    "We construct the `data`, `parameters` and `model` blocks in a similar way to before. We define the number of samples (`N`, `int`), and two vectors of log-radon measurements (`y`, length `N`) and floor measurement covariates (`x`, length `N`). The main difference to before is that we define a list of counties (these are the indices 1..85 defined above, rather than county names), one for each sample:"
   ]
  },
  {
   "cell_type": "code",
   "execution_count": 2,
   "metadata": {
    "collapsed": true
   },
   "outputs": [],
   "source": [
    "unpooled_data = \"\"\"\n",
    "data {\n",
    "  int<lower=0> N;\n",
    "  int<lower=1, upper=85> county[N];\n",
    "  vector[N] x;\n",
    "  vector[N] y;\n",
    "}\n",
    "\"\"\""
   ]
  },
  {
   "cell_type": "markdown",
   "metadata": {},
   "source": [
    "We define three parameters: $\\alpha_{j[i]}$ - one radon level per county (`a` - as a vector of length 85, one value per county); change in radon level by floor, $\\beta$ (`beta`, a real value), and the Normal distribution scale parameter `sigma`, as before:"
   ]
  },
  {
   "cell_type": "code",
   "execution_count": 3,
   "metadata": {
    "collapsed": true
   },
   "outputs": [],
   "source": [
    "unpooled_parameters = \"\"\"\n",
    "parameters {\n",
    "  vector[85] a;\n",
    "  real beta;\n",
    "  real<lower=0, upper=100> sigma;\n",
    "}\n",
    "\"\"\""
   ]
  },
  {
   "cell_type": "markdown",
   "metadata": {},
   "source": [
    "We also define a *transformed parameter*, for convenience. This defines a new variable $\\hat{y}$ (`y_hat`, a `vector` with one value per sample) which is our estimate/prediction of log(radon) value per household. This could equally well be done in the model block - we don't *need* to generate a transformed parameter, but for more complex models this is a useful technique to improve readability and maintainability."
   ]
  },
  {
   "cell_type": "code",
   "execution_count": 4,
   "metadata": {
    "collapsed": true
   },
   "outputs": [],
   "source": [
    "unpooled_transformed_parameters = \"\"\"\n",
    "transformed parameters {\n",
    "  vector[N] y_hat;\n",
    "  \n",
    "  for (i in 1:N)\n",
    "    y_hat[i] <- beta * x[i] + a[county[i]];\n",
    "}\n",
    "\"\"\""
   ]
  },
  {
   "cell_type": "markdown",
   "metadata": {},
   "source": [
    "Using this transformed parameter, the model form is now $y \\sim N(\\hat{y}, \\sigma_e)$, making explicit that we are fitting parameters that result in the model *predicting* a household radon measurement, and we are estimating the error of this prediction against the observed values:"
   ]
  },
  {
   "cell_type": "code",
   "execution_count": 5,
   "metadata": {
    "collapsed": true
   },
   "outputs": [],
   "source": [
    "unpooled_model = \"\"\"\n",
    "model {\n",
    "  y ~ normal(y_hat, sigma);\n",
    "}\n",
    "\"\"\""
   ]
  },
  {
   "cell_type": "markdown",
   "metadata": {},
   "source": [
    "## Running the unpooled model in `Stan`\n",
    "\n",
    "We again map Python variables to those used in the `Stan` model, then pass the data, parameters (transformed and untransformed) and the model to `Stan`. We again specify 1000 iterations of 2 chains.\n",
    "\n",
    "** Note that we have to offset our Python indices for counties by 1, as Python counts from zero, but `Stan` counts from 1. **"
   ]
  },
  {
   "cell_type": "code",
   "execution_count": 6,
   "metadata": {
    "collapsed": false
   },
   "outputs": [],
   "source": [
    "# Map data\n",
    "unpooled_data_dict = {'N': len(clean_data.log_radon),\n",
    "                      'county': clean_data.county + 1,  # Stan counts start from 1\n",
    "                      'x': clean_data.floor_measure,\n",
    "                      'y': clean_data.log_radon}\n",
    "\n",
    "# Fit model\n",
    "unpooled_fit = pystan.stan(model_code=unpooled_data + unpooled_parameters +\n",
    "                                       unpooled_transformed_parameters + unpooled_model,\n",
    "                            data=unpooled_data_dict,\n",
    "                            iter=1000,\n",
    "                            chains=2)"
   ]
  },
  {
   "cell_type": "markdown",
   "metadata": {},
   "source": [
    "## Inspecting the fit\n",
    "\n",
    "We can extract the sample from the fit for visualisation and summarisation. This time we do not use the `permuted=True` option. This returns a `StanFit4Model` object, from which we can extract the fitted estimates for a parameter using indexing, like a dictionary, e.g. `unpooled_fit['beta']`, and this will return a `numpy` `ndarray` of values. For $\\alpha$ (`a`) we get a 1000x85 array, for $\\beta$ (`beta`) we get a 1000x1 array. Mean and standard deviation (and other summary statistics) can be calculated from these.\n",
    "\n",
    "When extracting vectors of $\\alpha_{j[i]}$ (radon levels per county) and the associated standard errors, we use a `pd.Series` object, for compatibility with `pandas`. This allows us to specify an index, which is the list of county names in `clean.data.mn_counties`."
   ]
  },
  {
   "cell_type": "code",
   "execution_count": 7,
   "metadata": {
    "collapsed": false
   },
   "outputs": [
    {
     "data": {
      "text/plain": [
       "AITKIN      0.897083\n",
       "ANOKA       0.931966\n",
       "BECKER      1.541253\n",
       "BELTRAMI    1.603539\n",
       "BENTON      1.459515\n",
       "dtype: float64"
      ]
     },
     "execution_count": 7,
     "metadata": {},
     "output_type": "execute_result"
    }
   ],
   "source": [
    "# Extract fit of radon by county\n",
    "unpooled_estimates = pd.Series(unpooled_fit['a'].mean(0), index=clean_data.mn_counties)\n",
    "unpooled_se = pd.Series(unpooled_fit['a'].std(0), index=clean_data.mn_counties)\n",
    "\n",
    "# Inspect estimates\n",
    "unpooled_estimates.head()"
   ]
  },
  {
   "cell_type": "markdown",
   "metadata": {},
   "source": [
    "To inspect the variation in predicted radon levels at county resolution, we can plot the mean of each estimate with its associated standard error. To structure this visually, we'll reorder the counties such that we plot counties from lowest to highest."
   ]
  },
  {
   "cell_type": "code",
   "execution_count": 8,
   "metadata": {
    "collapsed": false
   },
   "outputs": [
    {
     "data": {
      "image/png": "[encoded data removed]",
      "text/plain": [
       "<matplotlib.figure.Figure at 0x1097b2c18>"
      ]
     },
     "metadata": {},
     "output_type": "display_data"
    }
   ],
   "source": [
    "# Get row order of estimates as an index: low to high radon\n",
    "order = unpooled_estimates.sort_values().index\n",
    "\n",
    "# Plot mean radon estimates with stderr, following low to high radon order\n",
    "plt.scatter(range(len(unpooled_estimates)), unpooled_estimates[order])\n",
    "for i, m, se in zip(range(len(unpooled_estimates)),\n",
    "                    unpooled_estimates[order],\n",
    "                    unpooled_se[order]):\n",
    "    plt.plot([i,i], [m - se, m + se], 'b-')\n",
    "plt.xlim(-1, 86)\n",
    "plt.ylim(-1, 4)\n",
    "plt.title('Variation in county radon estimates')\n",
    "plt.xlabel('Ordered county')\n",
    "plt.ylabel('Radon estimate');"
   ]
  },
  {
   "cell_type": "markdown",
   "metadata": {},
   "source": [
    "From this visual inspection, we can see that there is one county with a relatively low predicted radon level, and about five with relatively high levels. A single state-wide estimate of prevailing radon level could not represent this variation well, and this reinforces our suspicion that a pooled estimate is likely to exhibit significant *bias*."
   ]
  },
  {
   "cell_type": "code",
   "execution_count": null,
   "metadata": {
    "collapsed": true
   },
   "outputs": [],
   "source": []
  }
 ],
 "metadata": {
  "kernelspec": {
   "display_name": "Python 3",
   "language": "python",
   "name": "python3"
  },
  "language_info": {
   "codemirror_mode": {
    "name": "ipython",
    "version": 3
   },
   "file_extension": ".py",
   "mimetype": "text/x-python",
   "name": "python",
   "nbconvert_exporter": "python",
   "pygments_lexer": "ipython3",
   "version": "3.5.2"
  }
 },
 "nbformat": 4,
 "nbformat_minor": 0
}
